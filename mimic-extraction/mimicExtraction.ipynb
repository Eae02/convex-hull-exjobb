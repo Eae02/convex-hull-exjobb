{
 "cells": [
  {
   "cell_type": "code",
   "execution_count": null,
   "id": "37166fd5",
   "metadata": {},
   "outputs": [],
   "source": [
    "%pip install tensorflow"
   ]
  },
  {
   "cell_type": "code",
   "execution_count": null,
   "id": "fe42ee18",
   "metadata": {},
   "outputs": [],
   "source": [
    "%pip install Timestamp"
   ]
  },
  {
   "cell_type": "code",
   "execution_count": null,
   "id": "6273f101",
   "metadata": {},
   "outputs": [],
   "source": [
    "import pandas as pd\n"
   ]
  },
  {
   "cell_type": "code",
   "execution_count": null,
   "id": "b5bb1bd5",
   "metadata": {},
   "outputs": [],
   "source": [
    "dataset = 'mimiciv' # If you put your files in data/mimiciv/...\n",
    "version = 'iv' #iv or iii"
   ]
  },
  {
   "cell_type": "code",
   "execution_count": null,
   "id": "f012be19",
   "metadata": {},
   "outputs": [],
   "source": [
    "ventdurations = pd.read_csv(f'data/{dataset}/ventdurations.csv')\n",
    "d_items = pd.read_csv(f'data/{dataset}/d_items.csv.gz')\n",
    "patients = pd.read_csv(f'data/{dataset}/patients.csv.gz')\n",
    "icustays = pd.read_csv(f'data/{dataset}/icustays.csv.gz')\n",
    "\n",
    "#Use if Chartevents stored in just one file\n",
    "#chartevents = pd.read_csv(f'data/{dataset}/chartevents.csv') "
   ]
  },
  {
   "cell_type": "code",
   "execution_count": null,
   "id": "0ce6c220",
   "metadata": {},
   "outputs": [],
   "source": [
    "import tensorflow as tf\n",
    "from tensorflow.python.lib.io import file_io\n",
    "\n",
    "def read_csv_file(filename):\n",
    "    df = pd.read_csv(filename)\n",
    "    return df\n",
    "\n",
    "def read_csv_files(filename_pattern):\n",
    "    filenames = tf.io.gfile.glob(filename_pattern)\n",
    "    dataframes = [read_csv_file(filename) for filename in filenames]\n",
    "    return pd.concat(dataframes)\n",
    "# sharded read\n",
    "chartevents = read_csv_files(f'data/{dataset}/chartevents*') \n"
   ]
  },
  {
   "cell_type": "code",
   "execution_count": null,
   "id": "93389086",
   "metadata": {},
   "outputs": [],
   "source": [
    "#Memory usage before optimizations\n",
    "chartevents.memory_usage(deep=True)"
   ]
  },
  {
   "cell_type": "code",
   "execution_count": null,
   "id": "77f95bbc",
   "metadata": {},
   "outputs": [],
   "source": [
    "# Reduce memory usage\n",
    "chartevents[\"valueuom\"] = chartevents[\"valueuom\"].astype(\"category\")\n",
    "chartevents['charttime'] = pd.to_datetime(chartevents['charttime'])\n",
    "chartevents = chartevents.drop(columns = ['subject_id','row_id','hadm_id','cgid', 'storetime', 'value', 'warning', 'error', 'resultstatus', 'stopped'],  errors='ignore')\n",
    "chartevents = chartevents[chartevents['valuenum'].notna()]\n",
    "chartevents = chartevents[chartevents['icustay_id'].notna()]\n",
    "chartevents['icustay_id'] = chartevents['icustay_id'].astype(int)\n",
    "chartevents.memory_usage(deep=True)"
   ]
  },
  {
   "cell_type": "code",
   "execution_count": null,
   "id": "b411d121",
   "metadata": {},
   "outputs": [],
   "source": [
    "# Fix uppercase column names\n",
    "patients.columns = list(map(lambda s: s.lower(),patients.columns))\n",
    "icustays.columns = list(map(lambda s: s.lower(),icustays.columns))\n",
    "d_items.columns = list(map(lambda s: s.lower(),d_items.columns))\n",
    "ventdurations.columns = list(map(lambda s: s.lower(),ventdurations.columns))\n",
    "chartevents.columns = list(map(lambda s: s.lower(),chartevents.columns))"
   ]
  },
  {
   "cell_type": "code",
   "execution_count": null,
   "id": "04fe13f8",
   "metadata": {
    "scrolled": true
   },
   "outputs": [],
   "source": [
    "ventdurations['endtime'] = pd.to_datetime(ventdurations['endtime'])\n",
    "ventdurations['starttime'] = pd.to_datetime(ventdurations['starttime'])\n",
    "ventdurations['duration'] = ventdurations['endtime'] - ventdurations['starttime']\n",
    "ventdurations = ventdurations[ventdurations['icustay_id'].notna()]\n",
    "ventdurations['icustay_id'] = ventdurations['icustay_id'].astype(int)\n",
    "ventdurations = ventdurations.groupby(by = 'icustay_id').agg(\n",
    "    duration=pd.NamedAgg(column=\"duration\", aggfunc=\"sum\"),\n",
    "    starttime=pd.NamedAgg(column=\"starttime\", aggfunc=\"min\"),\n",
    "    endtime=pd.NamedAgg(column=\"endtime\", aggfunc=\"max\"))\n",
    "\n",
    "ventdurations = ventdurations[ventdurations['duration'] >= pd.to_timedelta('1 day')]\n",
    "\n",
    "\n",
    "\n",
    "if version == 'iii':\n",
    "    patients = patients[['subject_id','dob']].set_index('subject_id')\n",
    "    icustays = icustays[['subject_id','icustay_id']]\n",
    "    icustay_to_dob = icustays.join(patients, on = 'subject_id').drop(columns = 'subject_id').set_index('icustay_id')\n",
    "\n",
    "    icustay_to_dob['dob'] = pd.to_datetime(icustay_to_dob['dob'])\n",
    "\n",
    "\n",
    "    #Filter out patients that are at least 18 years of age\n",
    "    ventdurations = ventdurations.join(icustay_to_dob)\n",
    "    ventdurations['startdate'] = pd.to_datetime(ventdurations['starttime']).dt.date\n",
    "    ventdurations['dob'] = pd.to_datetime(ventdurations['dob']).dt.date\n",
    "    ventdurations = ventdurations[ventdurations.apply(lambda row: (row['startdate'] - row['dob']).days >= 18*365, axis = 1)]\n",
    "    \n",
    "    ventdurations = ventdurations.drop(columns = ['duration','startdate','endtime','dob'], errors='ignore')\n",
    "    \n",
    "else:\n",
    "    # Version iv, patients table is a little bit different\n",
    "    patients = patients[patients['anchor_age']>=18]\n",
    "    patients = patients[['subject_id', 'anchor_age']]\n",
    "    icustays = icustays[['subject_id', 'stay_id']]\n",
    "    icustays = icustays.set_index('subject_id')\n",
    "    patients = patients.set_index('subject_id')\n",
    "    \n",
    "    icustays['icustay_id'] = icustays['stay_id'] \n",
    "    icu_patients = icustays.join(patients, how = 'inner')\n",
    "    icu_patients = icu_patients.set_index('icustay_id')\n",
    "    \n",
    "    ventdurations = ventdurations.join(icu_patients, how = 'inner')\n",
    "    ventdurations = ventdurations.drop(columns = ['duration','endtime','stay_id','anchor_age'], errors='ignore')\n",
    "\n",
    "\n",
    "ventdurations\n",
    "    "
   ]
  },
  {
   "cell_type": "code",
   "execution_count": null,
   "id": "5bd5a793",
   "metadata": {},
   "outputs": [],
   "source": [
    "#Filter out chartevents that are taken during the first day of ventilation for ICU stays that last for 1 day\n",
    "\n",
    "chartevents = chartevents.join(ventdurations, on = 'icustay_id', how = 'inner')\n",
    "rowfilter = (chartevents['starttime'] <= chartevents['charttime']) & \\\n",
    "    (chartevents['charttime'] <= chartevents['starttime'] + pd.to_timedelta('1 day'))\n",
    "chartevents = chartevents[rowfilter]\n",
    "\n",
    "chartevents = chartevents.drop(columns = ['charttime','starttime'], errors='ignore')\n",
    "chartevents"
   ]
  },
  {
   "cell_type": "code",
   "execution_count": null,
   "id": "aae9e791",
   "metadata": {},
   "outputs": [],
   "source": [
    "d_items = d_items.set_index('itemid')\n",
    "d_items = d_items[['label']]\n",
    "d_items"
   ]
  },
  {
   "cell_type": "code",
   "execution_count": null,
   "id": "b8a624a7",
   "metadata": {},
   "outputs": [],
   "source": [
    "#Replace itemid column with label, important because some itemid maps to the same label\n",
    "chartevents = chartevents.join(d_items, on = 'itemid').drop(columns = 'itemid')"
   ]
  },
  {
   "cell_type": "code",
   "execution_count": null,
   "id": "d1908e0f",
   "metadata": {},
   "outputs": [],
   "source": [
    "# Check that units of measurement are consistent\n",
    "units_of_measurement = chartevents[chartevents['valueuom'].notna()].groupby(by = ['label']).agg(\n",
    "    valueuom=pd.NamedAgg(column=\"valueuom\", aggfunc=\"unique\")\n",
    ").reset_index()\n",
    "units_of_measurement[units_of_measurement['valueuom'].apply(lambda x: x.size)>1]\n",
    "# Just validate that table is empty, which means that there are no measurements with different units\n",
    "# For mimiciv \"Absolute count\" has 2 different units of measurement, but it will be discarded anyway."
   ]
  },
  {
   "cell_type": "code",
   "execution_count": null,
   "id": "213dfba5",
   "metadata": {},
   "outputs": [],
   "source": [
    "medianevents = chartevents.groupby(by = ['icustay_id','label']).agg(\n",
    "    valuenum=pd.NamedAgg(column=\"valuenum\", aggfunc=\"median\")\n",
    ")\n",
    "\n",
    "medianevents"
   ]
  },
  {
   "cell_type": "code",
   "execution_count": null,
   "id": "cd0766f9",
   "metadata": {},
   "outputs": [],
   "source": [
    "measurements_by_person = medianevents.reset_index().set_index(['icustay_id','label']).unstack()\n",
    "\n",
    "# Remove columns with more than 30% nan values.\n",
    "measurements_by_person = measurements_by_person.loc[:, measurements_by_person.isnull().mean() <= 0.3]\n",
    "# Replace remaining nan values with mode\n",
    "measurements_by_person = measurements_by_person.fillna(measurements_by_person.mode().iloc[0])\n",
    "# Fix column labels\n",
    "measurements_by_person.columns = measurements_by_person.columns.map(lambda x: x[1])\n",
    "measurements_by_person = measurements_by_person.reset_index()\n",
    "measurements_by_person"
   ]
  },
  {
   "cell_type": "code",
   "execution_count": null,
   "id": "52e88afb",
   "metadata": {},
   "outputs": [],
   "source": [
    "measurements_by_person.to_csv(f'output/intermediate-{dataset}.csv', index = False)"
   ]
  }
 ],
 "metadata": {
  "kernelspec": {
   "display_name": "Python 3 (ipykernel)",
   "language": "python",
   "name": "python3"
  },
  "language_info": {
   "codemirror_mode": {
    "name": "ipython",
    "version": 3
   },
   "file_extension": ".py",
   "mimetype": "text/x-python",
   "name": "python",
   "nbconvert_exporter": "python",
   "pygments_lexer": "ipython3",
   "version": "3.9.12"
  }
 },
 "nbformat": 4,
 "nbformat_minor": 5
}
